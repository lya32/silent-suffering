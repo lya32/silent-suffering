{
 "cells": [
  {
   "cell_type": "code",
   "execution_count": 2,
   "metadata": {},
   "outputs": [],
   "source": [
    "import pandas as pd\n",
    "import os"
   ]
  },
  {
   "cell_type": "markdown",
   "metadata": {},
   "source": [
    "# One-column to Ten-column (Before MTurk) "
   ]
  },
  {
   "cell_type": "code",
   "execution_count": 38,
   "metadata": {},
   "outputs": [
    {
     "name": "stdout",
     "output_type": "stream",
     "text": [
      "batch1/batch1_1000/isAccess_batch1_1000.xlsx\n",
      "batch1/batch1_1000/isAccess_batch1_1000_revised2.xlsx\n",
      "batch1/batch1_1000/isCosts_batch1_1000.xlsx\n",
      "batch1/batch1_1000/isCosts_batch1_1000_revised2.xlsx\n",
      "batch1/batch1_1000/isDelays_batch1_1000.xlsx\n",
      "batch1/batch1_1000/isErrors_batch1_1000.xlsx\n",
      "batch1/batch1_1000/isErrors_batch1_1000_revised2.xlsx\n",
      "batch1/batch1_1000/isStaffAndTrust_batch1_1000.xlsx\n",
      "batch1/batch1_1000/isTreatments_batch1_1000.xlsx\n"
     ]
    }
   ],
   "source": [
    "input_path = \"batch1/batch1_1000\"\n",
    "output_path = \"batch1/batch1_1000/batch1_1000_tenCol\"\n",
    "os.mkdir(output_path)\n",
    "\n",
    "for file in sorted(os.listdir(input_path)):\n",
    "    if file[-5:] != '.xlsx' or file[:2] == '~$':\n",
    "        continue\n",
    "    print(input_path + '/'+ file)\n",
    "    df = pd.read_excel(input_path + '/'+ file)\n",
    "    df.head()\n",
    "    batch = (int) (df.shape[0] / 10)\n",
    "    df_tenFold = pd.DataFrame()\n",
    "    for i in range(1, 11):\n",
    "        batch_df = df[batch * (i - 1):batch * i]\n",
    "        df_tenFold['aspect-' + str(i)] = list(batch_df['aspect'])\n",
    "        df_tenFold['course_of_problem-' + str(i)] = list(batch_df['course_of_problem'])\n",
    "        df_tenFold['group-' + str(i)] = list(batch_df['group'])\n",
    "        df_tenFold['id-' + str(i)] = list(batch_df['id'])\n",
    "        df_tenFold['text-' + str(i)] = list(batch_df['text'])\n",
    "        df_tenFold['trainOrtest-' + str(i)] = list(batch_df['trainOrtest'])\n",
    "        df_tenFold['batch-' + str(i)] = list(batch_df['batch'])\n",
    "        df_tenFold['treatment-' + str(i)] = list(batch_df['treatment'])\n",
    "        \n",
    "        ## only for batch1_1000\n",
    "        df_tenFold['ground_truth_subaspect-' + str(i)] = list(batch_df['ground_truth_subaspect'])\n",
    "        df_tenFold['ground_truth_sentiment-' + str(i)] = list(batch_df['ground_truth_sentiment'])\n",
    "        \n",
    "        df_tenFold.to_csv(output_path + '/' + file[:-5] + '_tenCol.csv', index=False)"
   ]
  },
  {
   "cell_type": "markdown",
   "metadata": {},
   "source": [
    "# Ten-column to One-column (After MTurk)"
   ]
  },
  {
   "cell_type": "code",
   "execution_count": 4,
   "metadata": {},
   "outputs": [],
   "source": [
    "input_path = \"batch1/batch1_1000_result/original_result/Batch_1000_access_revised_three_workers_result.csv\"\n",
    "output_path = \"batch1/batch1_1000_result/formatted_result/Batch_1000_access_revised_three_workers_formatted_result.csv\"\n",
    "aspect_name = 'Access'\n",
    "numOfOption = 6\n",
    "    \n",
    "# for file in sorted(os.listdir(input_path)):\n",
    "#     if file[-4:] != '.csv':\n",
    "#         continue\n",
    "df = pd.read_csv(input_path)\n",
    "df_merged = pd.DataFrame()\n",
    "for i in range(1, 11):\n",
    "    # raw column names\n",
    "    df_temp = pd.DataFrame()\n",
    "    df_temp['HITId'] = df['HITId']\n",
    "    df_temp['HITTypeId'] = df['HITTypeId']\n",
    "    df_temp['AssignmentId'] = df['AssignmentId']\n",
    "    df_temp['WorkerId'] = df['WorkerId']\n",
    "    df_temp['AssignmentStatus'] = df['AssignmentStatus']\n",
    "    df_temp['WorkTimeInSeconds'] = df['WorkTimeInSeconds']\n",
    "    df_temp['LifetimeApprovalRate'] = df['LifetimeApprovalRate']\n",
    "    df_temp['Last30DaysApprovalRate'] = df['Last30DaysApprovalRate']\n",
    "    df_temp['aspect'] = df['Input.aspect-' + str(i)]\n",
    "    df_temp['course_of_problem'] = df['Input.course_of_problem-' + str(i)]\n",
    "    df_temp['group'] = df['Input.group-' + str(i)]\n",
    "    df_temp['id'] = df['Input.id-' + str(i)]\n",
    "    df_temp['text'] = df['Input.text-' + str(i)]\n",
    "    df_temp['trainOrtest'] = df['Input.trainOrtest-' + str(i)]\n",
    "    df_temp['batch'] = df['Input.batch-' + str(i)]\n",
    "    df_temp['treatment'] = df['Input.treatment-' + str(i)]\n",
    "\n",
    "    ## only for batch1_1000\n",
    "    df_temp['ground_truth_subaspect'] = df['Input.ground_truth_subaspect-' + str(i)]\n",
    "    df_temp['ground_truth_sentiment'] = df['Input.ground_truth_sentiment-' + str(i)]\n",
    "\n",
    "\n",
    "    # answer coumn names\n",
    "\n",
    "    subaspect_list = []\n",
    "    sentiment_list = []\n",
    "\n",
    "    for index in range(0, df.shape[0]):\n",
    "        subaspect_each = []\n",
    "        for asIndex in range(0, numOfOption):\n",
    "            if df.iloc[index]['Answer.' + aspect_name + '-' + str(i) + '.' + str(asIndex)] == True:\n",
    "                subaspect_each.append(asIndex)\n",
    "        subaspect_list.append(subaspect_each)\n",
    "\n",
    "        sentiment = 0\n",
    "        for sIndex in range(0, 3):\n",
    "            if df.iloc[index]['Answer.sentiment-' + str(i) + '.' + str(sIndex)] == True:\n",
    "                    sentiment = sIndex\n",
    "        sentiment_list.append(sentiment)\n",
    "    df_temp['subaspect'] = subaspect_list\n",
    "    df_temp['sentiment'] = sentiment_list\n",
    "    df_merged = pd.concat([df_merged, df_temp])\n",
    "        \n",
    "df_merged.to_csv(output_path, index=False)"
   ]
  }
 ],
 "metadata": {
  "kernelspec": {
   "display_name": "Python 3",
   "language": "python",
   "name": "python3"
  },
  "language_info": {
   "codemirror_mode": {
    "name": "ipython",
    "version": 3
   },
   "file_extension": ".py",
   "mimetype": "text/x-python",
   "name": "python",
   "nbconvert_exporter": "python",
   "pygments_lexer": "ipython3",
   "version": "3.7.3"
  }
 },
 "nbformat": 4,
 "nbformat_minor": 2
}
