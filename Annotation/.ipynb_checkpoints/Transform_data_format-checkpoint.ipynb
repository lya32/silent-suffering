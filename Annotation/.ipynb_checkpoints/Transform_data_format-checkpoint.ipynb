{
 "cells": [
  {
   "cell_type": "code",
   "execution_count": 1,
   "metadata": {},
   "outputs": [],
   "source": [
    "import pandas as pd\n",
    "import os"
   ]
  },
  {
   "cell_type": "markdown",
   "metadata": {},
   "source": [
    "# One-column to Ten-column "
   ]
  },
  {
   "cell_type": "code",
   "execution_count": 20,
   "metadata": {},
   "outputs": [],
   "source": [
    "input_path = \"batch1/batch1_1000\"\n",
    "output_path = \"batch1/batch1_1000/batch1_1000_tenCol\"\n",
    "os.mkdir(output_path)\n",
    "\n",
    "for file in sorted(os.listdir(input_path)):\n",
    "    if file[-5:] != '.xlsx':\n",
    "        continue\n",
    "#     print(file)\n",
    "    df = pd.read_excel(iput_path + '/'+ file)\n",
    "#     print(df.columns)\n",
    "    batch = (int) (df.shape[0] / 10)\n",
    "    df_tenFold = pd.DataFrame()\n",
    "    for i in range(1, 11):\n",
    "        batch_df = df[batch * (i - 1):batch * i]\n",
    "        df_tenFold['aspect-' + str(i)] = list(batch_df['aspect'])\n",
    "        df_tenFold['course_of_problem-' + str(i)] = list(batch_df['course_of_problem'])\n",
    "        df_tenFold['group-' + str(i)] = list(batch_df['group'])\n",
    "        df_tenFold['id-' + str(i)] = list(batch_df['id'])\n",
    "        df_tenFold['text-' + str(i)] = list(batch_df['text'])\n",
    "        df_tenFold['trainOrtest-' + str(i)] = list(batch_df['trainOrtest'])\n",
    "        df_tenFold['batch-' + str(i)] = list(batch_df['batch'])\n",
    "        df_tenFold.to_excel(output_path + '/' + file[:-5] + '_tenCol.xlsx', index=False)"
   ]
  },
  {
   "cell_type": "markdown",
   "metadata": {},
   "source": [
    "# Ten-column to One-column "
   ]
  },
  {
   "cell_type": "code",
   "execution_count": null,
   "metadata": {},
   "outputs": [],
   "source": []
  }
 ],
 "metadata": {
  "kernelspec": {
   "display_name": "Python 3",
   "language": "python",
   "name": "python3"
  },
  "language_info": {
   "codemirror_mode": {
    "name": "ipython",
    "version": 3
   },
   "file_extension": ".py",
   "mimetype": "text/x-python",
   "name": "python",
   "nbconvert_exporter": "python",
   "pygments_lexer": "ipython3",
   "version": "3.7.3"
  }
 },
 "nbformat": 4,
 "nbformat_minor": 2
}
