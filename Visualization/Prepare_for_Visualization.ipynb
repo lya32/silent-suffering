{
 "cells": [
  {
   "cell_type": "code",
   "execution_count": 80,
   "metadata": {},
   "outputs": [],
   "source": [
    "import pandas as pd"
   ]
  },
  {
   "cell_type": "code",
   "execution_count": 60,
   "metadata": {},
   "outputs": [],
   "source": [
    "sentence_df = pd.read_csv(\"simplified_complete_corpus_sentence.csv\")"
   ]
  },
  {
   "cell_type": "code",
   "execution_count": 61,
   "metadata": {},
   "outputs": [
    {
     "name": "stderr",
     "output_type": "stream",
     "text": [
      "/Users/jaden/anaconda3/lib/python3.7/site-packages/ipykernel_launcher.py:4: FutureWarning: \n",
      ".ix is deprecated. Please use\n",
      ".loc for label based indexing or\n",
      ".iloc for positional indexing\n",
      "\n",
      "See the documentation here:\n",
      "http://pandas.pydata.org/pandas-docs/stable/user_guide/indexing.html#ix-indexer-is-deprecated\n",
      "  after removing the cwd from sys.path.\n"
     ]
    }
   ],
   "source": [
    "sentence_df['aspect']='' # to create an empty column\n",
    "\n",
    "for col_name in [\"access\", \"costs\", \"delays\", \"errors\", \"trusts\"]:\n",
    "    sentence_df.ix[sentence_df[col_name]==1,'aspect']= sentence_df['aspect']+' '+col_name\n",
    "sentence_df = sentence_df.drop([\"access\", \"costs\", \"delays\", \"errors\", \"trusts\"], axis=1)\n",
    "sentence_df['aspect'] = sentence_df['aspect'].apply(lambda x: x.strip())"
   ]
  },
  {
   "cell_type": "code",
   "execution_count": 62,
   "metadata": {},
   "outputs": [
    {
     "name": "stdout",
     "output_type": "stream",
     "text": [
      "<class 'pandas.core.frame.DataFrame'>\n",
      "RangeIndex: 7651255 entries, 0 to 7651254\n",
      "Data columns (total 5 columns):\n",
      "group        object\n",
      "id           object\n",
      "text         object\n",
      "sentiment    int64\n",
      "aspect       object\n",
      "dtypes: int64(1), object(4)\n",
      "memory usage: 291.9+ MB\n"
     ]
    },
    {
     "data": {
      "text/html": [
       "<div>\n",
       "<style scoped>\n",
       "    .dataframe tbody tr th:only-of-type {\n",
       "        vertical-align: middle;\n",
       "    }\n",
       "\n",
       "    .dataframe tbody tr th {\n",
       "        vertical-align: top;\n",
       "    }\n",
       "\n",
       "    .dataframe thead th {\n",
       "        text-align: right;\n",
       "    }\n",
       "</style>\n",
       "<table border=\"1\" class=\"dataframe\">\n",
       "  <thead>\n",
       "    <tr style=\"text-align: right;\">\n",
       "      <th></th>\n",
       "      <th>group</th>\n",
       "      <th>id</th>\n",
       "      <th>text</th>\n",
       "      <th>sentiment</th>\n",
       "      <th>aspect</th>\n",
       "    </tr>\n",
       "  </thead>\n",
       "  <tbody>\n",
       "    <tr>\n",
       "      <th>0</th>\n",
       "      <td>Ankle_Problems</td>\n",
       "      <td>Ankle_Problems-656172-3-1</td>\n",
       "      <td>What I find weird is , even with no pain I am ...</td>\n",
       "      <td>0</td>\n",
       "      <td></td>\n",
       "    </tr>\n",
       "    <tr>\n",
       "      <th>1</th>\n",
       "      <td>Ankle_Problems</td>\n",
       "      <td>Ankle_Problems-656172-3-2</td>\n",
       "      <td>I guess it will take awhile and more practice ...</td>\n",
       "      <td>0</td>\n",
       "      <td></td>\n",
       "    </tr>\n",
       "    <tr>\n",
       "      <th>2</th>\n",
       "      <td>Ankle_Problems</td>\n",
       "      <td>Ankle_Problems-656172-3-3</td>\n",
       "      <td>Yeah I will continue with therapy and also usi...</td>\n",
       "      <td>0</td>\n",
       "      <td></td>\n",
       "    </tr>\n",
       "    <tr>\n",
       "      <th>3</th>\n",
       "      <td>Anxiety_Disorders</td>\n",
       "      <td>Anxiety_Disorders-591664-1-1</td>\n",
       "      <td>I am also on it and at similar levels .</td>\n",
       "      <td>0</td>\n",
       "      <td></td>\n",
       "    </tr>\n",
       "    <tr>\n",
       "      <th>4</th>\n",
       "      <td>Anxiety_Disorders</td>\n",
       "      <td>Anxiety_Disorders-591664-1-2</td>\n",
       "      <td>My husband thinks this is what is making the d...</td>\n",
       "      <td>1</td>\n",
       "      <td></td>\n",
       "    </tr>\n",
       "  </tbody>\n",
       "</table>\n",
       "</div>"
      ],
      "text/plain": [
       "               group                            id  \\\n",
       "0     Ankle_Problems     Ankle_Problems-656172-3-1   \n",
       "1     Ankle_Problems     Ankle_Problems-656172-3-2   \n",
       "2     Ankle_Problems     Ankle_Problems-656172-3-3   \n",
       "3  Anxiety_Disorders  Anxiety_Disorders-591664-1-1   \n",
       "4  Anxiety_Disorders  Anxiety_Disorders-591664-1-2   \n",
       "\n",
       "                                                text  sentiment aspect  \n",
       "0  What I find weird is , even with no pain I am ...          0         \n",
       "1  I guess it will take awhile and more practice ...          0         \n",
       "2  Yeah I will continue with therapy and also usi...          0         \n",
       "3            I am also on it and at similar levels .          0         \n",
       "4  My husband thinks this is what is making the d...          1         "
      ]
     },
     "execution_count": 62,
     "metadata": {},
     "output_type": "execute_result"
    }
   ],
   "source": [
    "sentence_df.info()\n",
    "sentence_df.head()"
   ]
  },
  {
   "cell_type": "code",
   "execution_count": 82,
   "metadata": {},
   "outputs": [],
   "source": [
    "main_df = sentence_df[sentence_df.aspect.isin([\"access\", \"costs\", \"delays\", \"errors\", \"trusts\", \"\"])]\n",
    "depulicate_df = sentence_df[~sentence_df.aspect.isin([\"access\", \"costs\", \"delays\", \"errors\", \"trusts\", \"\"])]"
   ]
  },
  {
   "cell_type": "code",
   "execution_count": 87,
   "metadata": {},
   "outputs": [],
   "source": [
    "new_df = pd.DataFrame(columns=[\"group\", \"id\", \"text\", \"aspect\", \"sentiment\"])\n",
    "for row in depulicate_df.iterrows():\n",
    "        new_row = row[1][[\"group\", \"id\", \"text\", \"sentiment\"]]\n",
    "        for each in row[1][\"aspect\"].split():\n",
    "            new_row[\"aspect\"] = each\n",
    "            new_df = new_df.append(new_row)"
   ]
  },
  {
   "cell_type": "code",
   "execution_count": 91,
   "metadata": {},
   "outputs": [
    {
     "name": "stderr",
     "output_type": "stream",
     "text": [
      "/Users/jaden/anaconda3/lib/python3.7/site-packages/pandas/core/frame.py:7138: FutureWarning: Sorting because non-concatenation axis is not aligned. A future version\n",
      "of pandas will change to not sort by default.\n",
      "\n",
      "To accept the future behavior, pass 'sort=False'.\n",
      "\n",
      "To retain the current behavior and silence the warning, pass 'sort=True'.\n",
      "\n",
      "  sort=sort,\n"
     ]
    }
   ],
   "source": [
    "main_df = main_df.append(new_df)"
   ]
  },
  {
   "cell_type": "code",
   "execution_count": 92,
   "metadata": {},
   "outputs": [],
   "source": [
    "main_df.to_csv(\"simplified_complete_corpus_sentence_for_viz.csv\")"
   ]
  },
  {
   "cell_type": "code",
   "execution_count": 99,
   "metadata": {},
   "outputs": [],
   "source": [
    "selected_groups = [\"Statins_and_Other_Lipid_lowering_Medicines\", \n",
    "                   \"Angina\",\n",
    "                   \"Gallbladder_Problems\",\n",
    "                   \"Disc_Prolapse\",\n",
    "                   \"Cataract\",\n",
    "                   \"Atrophic_Vaginitis\",\n",
    "                   \"Lyme_Disease\",\n",
    "                   \"Pityriasis_Rosea\",\n",
    "                   \"Cervical_Spondylosis\",\n",
    "                   \"Surgery_and_Anaesthetics\"\n",
    "                  ]\n",
    "\n",
    "filtered_sentence_df = main_df[main_df.aspect != \"\"]\n",
    "filtered_sentence_df = filtered_sentence_df[filtered_sentence_df.group.isin(selected_groups)]"
   ]
  },
  {
   "cell_type": "code",
   "execution_count": 100,
   "metadata": {},
   "outputs": [
    {
     "data": {
      "text/plain": [
       "Gallbladder_Problems                          2813\n",
       "Cataract                                      1776\n",
       "Disc_Prolapse                                 1112\n",
       "Atrophic_Vaginitis                             539\n",
       "Cervical_Spondylosis                           491\n",
       "Statins_and_Other_Lipid_lowering_Medicines     387\n",
       "Lyme_Disease                                   350\n",
       "Angina                                         281\n",
       "Pityriasis_Rosea                               120\n",
       "Surgery_and_Anaesthetics                       107\n",
       "Name: group, dtype: int64"
      ]
     },
     "execution_count": 100,
     "metadata": {},
     "output_type": "execute_result"
    }
   ],
   "source": [
    "filtered_sentence_df[\"group\"].value_counts()"
   ]
  },
  {
   "cell_type": "code",
   "execution_count": null,
   "metadata": {},
   "outputs": [],
   "source": [
    "# sampling_ratio = 0.1\n",
    "# _, sample_sentence_df = train_test_split(filtered_sentence_df, test_size=0.1, stratify=meta['group'], random_state=42)"
   ]
  },
  {
   "cell_type": "code",
   "execution_count": 103,
   "metadata": {},
   "outputs": [
    {
     "name": "stderr",
     "output_type": "stream",
     "text": [
      "/Users/jaden/anaconda3/lib/python3.7/site-packages/ipykernel_launcher.py:2: FutureWarning: The signature of `Series.to_csv` was aligned to that of `DataFrame.to_csv`, and argument 'header' will change its default value from False to True: please pass an explicit value to suppress this warning.\n",
      "  \n"
     ]
    }
   ],
   "source": [
    "\n",
    "filtered_sentence_df.to_csv(\"sampled_simplified_complete_corpus_sentence_for_viz.csv\",index=False)\n",
    "filtered_sentence_df[\"text\"].apply(lambda x: x.lower()).to_csv(\"sampled_simplified_complete_corpus_sentence_for_viz_text.txt\",index=False)"
   ]
  }
 ],
 "metadata": {
  "kernelspec": {
   "display_name": "Python 3",
   "language": "python",
   "name": "python3"
  },
  "language_info": {
   "codemirror_mode": {
    "name": "ipython",
    "version": 3
   },
   "file_extension": ".py",
   "mimetype": "text/x-python",
   "name": "python",
   "nbconvert_exporter": "python",
   "pygments_lexer": "ipython3",
   "version": "3.7.3"
  }
 },
 "nbformat": 4,
 "nbformat_minor": 2
}
