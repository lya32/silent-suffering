{
 "cells": [
  {
   "cell_type": "code",
   "execution_count": 1,
   "metadata": {},
   "outputs": [],
   "source": [
    "from sklearn.preprocessing import MultiLabelBinarizer\n",
    "from sklearn.metrics import hamming_loss, confusion_matrix, f1_score, accuracy_score, roc_auc_score\n",
    "from sklearn.preprocessing import MultiLabelBinarizer\n",
    "\n",
    "import torch\n",
    "import torch.nn as nn\n",
    "import torch.optim as optim\n",
    "from torch.utils.data import DataLoader, TensorDataset\n",
    "from torch.utils.data.dataset import random_split\n",
    "from torch.optim.lr_scheduler import StepLR\n",
    "\n",
    "import numpy as np\n",
    "import pandas as pd\n",
    "\n",
    "import re\n",
    "\n",
    "from imblearn.over_sampling import SMOTE\n",
    "\n",
    "import matplotlib.pyplot as plt\n",
    "\n",
    "torch.manual_seed(100)\n",
    "np.random.seed(10)"
   ]
  },
  {
   "cell_type": "code",
   "execution_count": 2,
   "metadata": {},
   "outputs": [],
   "source": [
    "def read_data_from_lya(train_fn, test_fn):\n",
    "    train_data = pd.read_csv(train_fn, header=0)\n",
    "    test_data = pd.read_csv(test_fn)\n",
    "    \n",
    "    dev_data = test_data.iloc[:2500, :]\n",
    "    test_data = test_data.iloc[2500:, :]\n",
    "    \n",
    "    dev_data.reset_index(inplace=True, drop=True)\n",
    "    test_data.reset_index(inplace=True, drop=True)\n",
    "    \n",
    "    return train_data, dev_data, test_data\n",
    "\n",
    "def read_data(fn):\n",
    "    vectors = []\n",
    "    with open(fn, 'r') as f:\n",
    "        for row in f.readlines():\n",
    "            vectors.append([float(each) for each in row.strip().split()])\n",
    "    cols = ['access', 'costs', 'delays', 'errors', 'trusts']\n",
    "    vectors = pd.DataFrame(vectors, columns=cols)\n",
    "    return vectors\n",
    "\n",
    "def read_data_from_jaden(train_fn, dev_fn, test_fn):\n",
    "    train_data = read_data(train_fn)\n",
    "    dev_data = read_data(dev_fn)\n",
    "    test_data = read_data(test_fn)\n",
    "    \n",
    "    return train_data, dev_data, test_data\n",
    "\n",
    "def read_prediction():\n",
    "    train_bert, dev_bert, test_bert = read_data_from_lya(\"../../data/predictions/lya_result_train.csv\", \"../../data/predictions/lya_result_test.csv\")\n",
    "    train_pooledrnn, dev_pooledrnn, test_pooledrnn = read_data_from_jaden(\"../../data/predictions/Pooled_RNN_Aspect_training_predict.txt\", \"../../data/predictions/Pooled_RNN_Aspect_dev_predict.txt\", \"../../data/predictions/Pooled_RNN_Aspect_test_predict.txt\")\n",
    "    train_attention, dev_attention, test_attention = read_data_from_jaden(\"../../data/predictions/Pooled_RNN_Aspect_training_predict.txt\", \"../../data/predictions/Pooled_RNN_Aspect_dev_predict.txt\", \"../../data/predictions/Pooled_RNN_Aspect_test_predict.txt\")    \n",
    "    \n",
    "    train = pd.concat([train_bert, train_pooledrnn, train_attention], axis=1)\n",
    "    dev = pd.concat([dev_bert, dev_pooledrnn, dev_attention], axis=1)\n",
    "    test = pd.concat([test_bert, test_pooledrnn, test_attention], axis=1)    \n",
    "    \n",
    "    return train, dev, test\n",
    "    \n",
    "def read_true_label():\n",
    "    train_label = pd.read_csv(\"../../data/predictions/train_true_label.csv\", header=None, sep=\" \")\n",
    "    dev_label = pd.read_csv(\"../../data/predictions/dev_true_label.csv\", header=None, sep=\" \")\n",
    "    test_label = pd.read_csv(\"../../data/predictions/test_true_label.csv\", header=None, sep=\" \")  \n",
    "    \n",
    "    train_label.columns = [\"access\", \"costs\", \"delays\", \"errors\", \"trusts\"]\n",
    "    dev_label.columns = [\"access\", \"costs\", \"delays\", \"errors\", \"trusts\"]\n",
    "    test_label.columns = [\"access\", \"costs\", \"delays\", \"errors\", \"trusts\"]    \n",
    "    \n",
    "    return train_label, dev_label, test_label"
   ]
  },
  {
   "cell_type": "code",
   "execution_count": 3,
   "metadata": {},
   "outputs": [],
   "source": [
    "train_pre, dev_pre, test_pre = read_prediction()\n",
    "train_true, dev_true, test_true = read_true_label()"
   ]
  },
  {
   "cell_type": "code",
   "execution_count": 4,
   "metadata": {},
   "outputs": [
    {
     "data": {
      "text/plain": [
       "(2500, 15)"
      ]
     },
     "execution_count": 4,
     "metadata": {},
     "output_type": "execute_result"
    }
   ],
   "source": [
    "test_pre.shape"
   ]
  },
  {
   "cell_type": "code",
   "execution_count": 5,
   "metadata": {},
   "outputs": [
    {
     "data": {
      "text/plain": [
       "((2500, 15), (2500, 5))"
      ]
     },
     "execution_count": 5,
     "metadata": {},
     "output_type": "execute_result"
    }
   ],
   "source": [
    "dev_pre.shape, dev_true.shape"
   ]
  },
  {
   "cell_type": "code",
   "execution_count": 6,
   "metadata": {},
   "outputs": [
    {
     "data": {
      "text/plain": [
       "((2500, 15), (2500, 5))"
      ]
     },
     "execution_count": 6,
     "metadata": {},
     "output_type": "execute_result"
    }
   ],
   "source": [
    "test_pre.shape, test_true.shape"
   ]
  },
  {
   "cell_type": "markdown",
   "metadata": {},
   "source": [
    "# Model"
   ]
  },
  {
   "cell_type": "code",
   "execution_count": 7,
   "metadata": {},
   "outputs": [],
   "source": [
    "class FcLayer(nn.Module):\n",
    "    def __init__(self, in_dims, out_dims, dropout_rate):\n",
    "        super(FcLayer, self).__init__()\n",
    "        \n",
    "        self.fc = nn.Sequential(\n",
    "            nn.Linear(in_dims, out_dims),\n",
    "            nn.Dropout(dropout_rate),\n",
    "            nn.BatchNorm1d(out_dims),            \n",
    "            nn.LeakyReLU()\n",
    "        )\n",
    "    \n",
    "    def forward(self, X):\n",
    "        out = self.fc(X)\n",
    "        return out  \n",
    "\n",
    "class NNBaseline(nn.Module):\n",
    "    def __init__(self, dims, dropout_rates):\n",
    "        super(NNBaseline, self).__init__()\n",
    "        \n",
    "        N = len(dims)\n",
    "        self.fcs = nn.ModuleList([FcLayer(dims[i], dims[i+1], dropout_rates[i]) for i in range(N - 2)])\n",
    "        self.out_fc = nn.Linear(dims[-2], dims[-1])\n",
    "    \n",
    "    def forward(self, X):\n",
    "        out = X\n",
    "        for fc in self.fcs:\n",
    "            out = fc(out)\n",
    "        out = self.out_fc(out)\n",
    "        return out         "
   ]
  },
  {
   "cell_type": "code",
   "execution_count": 24,
   "metadata": {},
   "outputs": [],
   "source": [
    "def eval_metric(y_true, y_pred):\n",
    "    metric = hamming_loss(y_true, y_pred)\n",
    "    return metric\n",
    "\n",
    "def fuzzy_acc(y_true, y_pred):\n",
    "    fuzzy_acc = 0\n",
    "    for true, pre in zip(y_true, y_pred):\n",
    "        intersect = set(pre).intersection(set(true))\n",
    "        if intersect != None and len(intersect) > 0:\n",
    "            fuzzy_acc += 1\n",
    "    fuzzy_acc = fuzzy_acc*1.0 / len(y_true)\n",
    "    return fuzzy_acc\n",
    "\n",
    "def convert_logits_to_label(logits):\n",
    "    logits = logits > 0.6\n",
    "    logits = logits.astype(int)\n",
    "    return logits\n",
    "\n",
    "def generate_loaders_from_numpy(X, y):    \n",
    "    X_tensor = torch.from_numpy(X).float()\n",
    "    y_tensor = torch.from_numpy(y).float()\n",
    "    dataset = TensorDataset(X_tensor, y_tensor)\n",
    "    \n",
    "    N = X.shape[0]\n",
    "    \n",
    "    train_size = int(N*0.8)\n",
    "    val_size = N - train_size\n",
    "    \n",
    "#     train_dataset, val_dataset = random_split(dataset, [train_size, val_size])    \n",
    "    \n",
    "#     train_loader = DataLoader(dataset=train_dataset, batch_size=batch_size)\n",
    "#     val_loader = DataLoader(dataset=val_dataset, batch_size=val_size)    \n",
    "#     return train_loader, val_loader\n",
    "\n",
    "    train_loader = DataLoader(dataset=dataset, batch_size=batch_size, shuffle=True)\n",
    "    return train_loader\n",
    "\n",
    "def make_single_train_step(net, loss_fn, optimizer):\n",
    "    \n",
    "    def train_step(X, y):\n",
    "        \n",
    "        net.train()\n",
    "        \n",
    "        y_pred = net(X)\n",
    "        loss = loss_fn(y, y_pred)\n",
    "        \n",
    "        loss.backward()\n",
    "        optimizer.step()\n",
    "        optimizer.zero_grad()\n",
    "        \n",
    "        return loss.item()\n",
    "    \n",
    "    return train_step\n",
    "        \n",
    "    \n",
    "def make_validation(net, loss, optimizer):\n",
    "    \n",
    "    def validate(X, y):\n",
    "        \n",
    "        net.eval()        \n",
    "        \n",
    "        with torch.no_grad():\n",
    "            y_pred = net(X)\n",
    "            loss = loss_fn(y, y_pred)    \n",
    "            \n",
    "            logits = torch.sigmoid(y_pred)\n",
    "            y_pred_labels = convert_logits_to_label(logits.numpy())            \n",
    "            metric = eval_metric(y.numpy(), y_pred_labels)\n",
    "        return loss.item(), metric\n",
    "    \n",
    "    return validate\n",
    "\n",
    "def make_evaluation(net, loss):\n",
    "    \n",
    "    def evaluate(X, y):        \n",
    "        net.eval()        \n",
    "        \n",
    "        with torch.no_grad():\n",
    "            y_pred = net(X)\n",
    "            loss = loss_fn(y, y_pred)    \n",
    "            \n",
    "            logits = torch.sigmoid(y_pred)\n",
    "            y_pred_labels = convert_logits_to_label(logits.numpy())       \n",
    "            f1s = []\n",
    "            for idx in range(y_pred_labels.shape[1]):\n",
    "                print(\"********\")\n",
    "                print(\"label %s, confusion matrix:\" % (classes[idx]))\n",
    "                print(confusion_matrix(y[:, idx], y_pred_labels[:, idx]))\n",
    "                f1 = f1_score(y[:, idx], y_pred_labels[:, idx])\n",
    "                f1s.append(f1)\n",
    "                print(\"f1: %f\" % f1)\n",
    "                print(\"********\")\n",
    "            avg_f1 = np.mean(f1s)\n",
    "    \n",
    "            y = y.numpy()\n",
    "            hamming_score = 1 - hamming_loss(y, y_pred_labels)\n",
    "            num_fuzzy_match = 0\n",
    "            num_fuzzy_match_pos = 0\n",
    "            num_exact_match_pos = 0\n",
    "            num_pos = 0\n",
    "            \n",
    "            for pre, true in zip(y_pred_labels, y):\n",
    "                if np.sum(true) != 0: \n",
    "                    num_pos += 1\n",
    "                \n",
    "                # calculate the intersection\n",
    "                intersect = False\n",
    "                for each_pre, each_true in zip(pre, true):\n",
    "                    if each_pre == 1 and each_true == 1:\n",
    "                        intersect = True\n",
    "                if np.sum(pre) == 0 and np.sum(true) == 0:\n",
    "                    intersect = True                \n",
    "                \n",
    "                if (np.sum(true)>0 and np.sum(pre)>0 and intersect) or (np.sum(true) == 0 and np.sum(pre) == 0):\n",
    "                    num_fuzzy_match += 1\n",
    "                if np.sum(true)>0 and np.sum(pre)>0 and intersect:\n",
    "                    num_fuzzy_match_pos += 1\n",
    "                if np.sum(true)>0 and np.sum(pre)>0 and np.array_equal(pre, true): \n",
    "                    num_exact_match_pos += 1\n",
    "            fuzzy_accuracy = num_fuzzy_match*1.0 / y_pred_labels.shape[0]\n",
    "            exact_accuracy = accuracy_score(y, y_pred_labels)\n",
    "            fuzzy_accuracy_pos =  num_fuzzy_match_pos*1.0/num_pos\n",
    "            exact_accuracy_pos = num_exact_match_pos*1.0/num_pos            \n",
    "            roc = roc_auc_score(y, y_pred_labels, average=\"macro\")\n",
    "            \n",
    "            \n",
    "            print(\"avg f1 score: %f\" % avg_f1)\n",
    "            print(\"Hamming score: %f\" % hamming_score)\n",
    "            print(\"Exact accuracy: %f\" % exact_accuracy)\n",
    "            print(\"Fuzzy accuracy: %f\" % fuzzy_accuracy)\n",
    "            print(\"Exact accuracy (exclude negative): %f\" % exact_accuracy_pos)\n",
    "            print(\"Fuzzy accuracy (exclude negative): %f\" % fuzzy_accuracy_pos)\n",
    "            print(\"roc auc score (weighted): %f\" % roc)\n",
    "                                \n",
    "        return loss.item()\n",
    "    return evaluate        \n",
    "\n",
    "def train(X, y, val_x, val_y, n_epochs=10, batch_size=32, lr=1e-4, net=None, loss_fn=None, optimizer=None, device=None):\n",
    "    \n",
    "    train_loader = generate_loaders_from_numpy(X, y)    \n",
    "    val_x_tensor = torch.from_numpy(val_x).float()\n",
    "    val_y_tensor = torch.from_numpy(val_y).float()    \n",
    "    \n",
    "    train_step = make_single_train_step(net, loss_fn, optimizer)\n",
    "    validate_step = make_validation(net, loss_fn, optimizer)\n",
    "    \n",
    "    losses = []\n",
    "    val_losses = []\n",
    "    metrics = []\n",
    "    best_loss = float(\"inf\")\n",
    "    for epoch in range(n_epochs):\n",
    "        for idx, (X_batch, y_batch) in enumerate(train_loader):\n",
    "            \n",
    "            X_batch = X_batch.to(device)\n",
    "            y_batch = y_batch.to(device)\n",
    "            \n",
    "            loss = train_step(X_batch, y_batch)\n",
    "            \n",
    "            if idx % 100 == 0:\n",
    "                            \n",
    "                eval_loss, metric = validate_step(val_x_tensor, val_y_tensor)                            \n",
    "                \n",
    "                if eval_loss < best_loss:\n",
    "                    best_loss = eval_loss\n",
    "                    torch.save(net, \"../../models/nn_ensemble.pt\")\n",
    "                \n",
    "                losses.append(loss)                \n",
    "                val_losses.append(eval_loss)\n",
    "                metrics.append(metric)\n",
    "                print(\"epoch: %d, iter: %d, training loss: %f, eval loss: %f, hamming loss: %f\" % (epoch, idx, loss, eval_loss, metric))                            \n",
    "                \n",
    "    torch.save(net, \"../../models/nn_ensemble_last.pt\")\n",
    "    \n",
    "    return net, losses, val_losses, metrics\n",
    "    \n",
    "def test(data, label, net_fn, loss_fn=None):\n",
    "    data = torch.from_numpy(data).float()\n",
    "    label = torch.from_numpy(label).float()    \n",
    "    \n",
    "    model = torch.load(net_fn)\n",
    "    evaluate_step = make_evaluation(model, loss_fn)        \n",
    "    evaluate_step(data, label)    "
   ]
  },
  {
   "cell_type": "code",
   "execution_count": 9,
   "metadata": {},
   "outputs": [],
   "source": [
    "use_cuda = torch.cuda.is_available()\n",
    "device = torch.device(\"cuda:0\" if use_cuda else \"cpu\")"
   ]
  },
  {
   "cell_type": "code",
   "execution_count": 10,
   "metadata": {},
   "outputs": [],
   "source": [
    "n_epochs = 20\n",
    "batch_size = 64\n",
    "lr = 1e-4\n",
    "\n",
    "# dims = [train_wv.shape[1], 1000, 500, 200, encoded_labels.shape[1]]\n",
    "# dropout_rates = [0.1, 0.5, 0.5, 0.5]\n",
    "\n",
    "dims = [train_pre.shape[1], 300, 200, 100, train_true.shape[1]]\n",
    "dropout_rates = [0.1, 0.5, 0.5, 0.5]\n",
    "\n",
    "classes = [\"access\", \"costs\", \"delays\", \"errors\", \"trusts\"]"
   ]
  },
  {
   "cell_type": "code",
   "execution_count": 11,
   "metadata": {},
   "outputs": [],
   "source": [
    "def multilabel_loss(y_true, y_pred):\n",
    "    output = nn.functional.binary_cross_entropy_with_logits(y_pred, y_true)\n",
    "    return output"
   ]
  },
  {
   "cell_type": "code",
   "execution_count": 12,
   "metadata": {},
   "outputs": [
    {
     "data": {
      "text/plain": [
       "((24603, 15), (24603, 5))"
      ]
     },
     "execution_count": 12,
     "metadata": {},
     "output_type": "execute_result"
    }
   ],
   "source": [
    "train_pre.shape, train_true.shape"
   ]
  },
  {
   "cell_type": "code",
   "execution_count": 13,
   "metadata": {},
   "outputs": [
    {
     "data": {
      "text/plain": [
       "((2500, 15), (2500, 5))"
      ]
     },
     "execution_count": 13,
     "metadata": {},
     "output_type": "execute_result"
    }
   ],
   "source": [
    "dev_pre.shape, dev_true.shape"
   ]
  },
  {
   "cell_type": "code",
   "execution_count": 14,
   "metadata": {
    "scrolled": true
   },
   "outputs": [
    {
     "name": "stderr",
     "output_type": "stream",
     "text": [
      "/Users/zhengcao/anaconda3/envs/csci566/lib/python3.6/site-packages/torch/serialization.py:292: UserWarning: Couldn't retrieve source code for container of type NNBaseline. It won't be checked for correctness upon loading.\n",
      "  \"type \" + obj.__name__ + \". It won't be checked \"\n",
      "/Users/zhengcao/anaconda3/envs/csci566/lib/python3.6/site-packages/torch/serialization.py:292: UserWarning: Couldn't retrieve source code for container of type ModuleList. It won't be checked for correctness upon loading.\n",
      "  \"type \" + obj.__name__ + \". It won't be checked \"\n",
      "/Users/zhengcao/anaconda3/envs/csci566/lib/python3.6/site-packages/torch/serialization.py:292: UserWarning: Couldn't retrieve source code for container of type FcLayer. It won't be checked for correctness upon loading.\n",
      "  \"type \" + obj.__name__ + \". It won't be checked \"\n",
      "/Users/zhengcao/anaconda3/envs/csci566/lib/python3.6/site-packages/torch/serialization.py:292: UserWarning: Couldn't retrieve source code for container of type Sequential. It won't be checked for correctness upon loading.\n",
      "  \"type \" + obj.__name__ + \". It won't be checked \"\n",
      "/Users/zhengcao/anaconda3/envs/csci566/lib/python3.6/site-packages/torch/serialization.py:292: UserWarning: Couldn't retrieve source code for container of type Linear. It won't be checked for correctness upon loading.\n",
      "  \"type \" + obj.__name__ + \". It won't be checked \"\n",
      "/Users/zhengcao/anaconda3/envs/csci566/lib/python3.6/site-packages/torch/serialization.py:292: UserWarning: Couldn't retrieve source code for container of type Dropout. It won't be checked for correctness upon loading.\n",
      "  \"type \" + obj.__name__ + \". It won't be checked \"\n",
      "/Users/zhengcao/anaconda3/envs/csci566/lib/python3.6/site-packages/torch/serialization.py:292: UserWarning: Couldn't retrieve source code for container of type BatchNorm1d. It won't be checked for correctness upon loading.\n",
      "  \"type \" + obj.__name__ + \". It won't be checked \"\n",
      "/Users/zhengcao/anaconda3/envs/csci566/lib/python3.6/site-packages/torch/serialization.py:292: UserWarning: Couldn't retrieve source code for container of type LeakyReLU. It won't be checked for correctness upon loading.\n",
      "  \"type \" + obj.__name__ + \". It won't be checked \"\n"
     ]
    },
    {
     "name": "stdout",
     "output_type": "stream",
     "text": [
      "epoch: 0, iter: 0, training loss: 0.743875, eval loss: 0.691950, hamming loss: 0.043040\n",
      "epoch: 0, iter: 100, training loss: 0.523685, eval loss: 0.641642, hamming loss: 0.036480\n",
      "epoch: 0, iter: 200, training loss: 0.379938, eval loss: 0.575350, hamming loss: 0.038480\n",
      "epoch: 0, iter: 300, training loss: 0.294956, eval loss: 0.524005, hamming loss: 0.037680\n",
      "epoch: 1, iter: 0, training loss: 0.259872, eval loss: 0.482250, hamming loss: 0.037920\n",
      "epoch: 1, iter: 100, training loss: 0.217313, eval loss: 0.437634, hamming loss: 0.036240\n",
      "epoch: 1, iter: 200, training loss: 0.202880, eval loss: 0.396734, hamming loss: 0.035920\n",
      "epoch: 1, iter: 300, training loss: 0.169731, eval loss: 0.364232, hamming loss: 0.036160\n",
      "epoch: 2, iter: 0, training loss: 0.144684, eval loss: 0.345048, hamming loss: 0.036160\n",
      "epoch: 2, iter: 100, training loss: 0.132283, eval loss: 0.321850, hamming loss: 0.035840\n",
      "epoch: 2, iter: 200, training loss: 0.131946, eval loss: 0.301771, hamming loss: 0.036320\n",
      "epoch: 2, iter: 300, training loss: 0.169883, eval loss: 0.273942, hamming loss: 0.036160\n",
      "epoch: 3, iter: 0, training loss: 0.132429, eval loss: 0.261947, hamming loss: 0.035760\n",
      "epoch: 3, iter: 100, training loss: 0.100385, eval loss: 0.248559, hamming loss: 0.035920\n",
      "epoch: 3, iter: 200, training loss: 0.117055, eval loss: 0.233861, hamming loss: 0.036000\n",
      "epoch: 3, iter: 300, training loss: 0.121434, eval loss: 0.230156, hamming loss: 0.037840\n",
      "epoch: 4, iter: 0, training loss: 0.151608, eval loss: 0.223310, hamming loss: 0.037360\n",
      "epoch: 4, iter: 100, training loss: 0.114377, eval loss: 0.212362, hamming loss: 0.037920\n",
      "epoch: 4, iter: 200, training loss: 0.102442, eval loss: 0.205242, hamming loss: 0.038240\n",
      "epoch: 4, iter: 300, training loss: 0.089921, eval loss: 0.195740, hamming loss: 0.038320\n",
      "epoch: 5, iter: 0, training loss: 0.139534, eval loss: 0.191392, hamming loss: 0.038560\n",
      "epoch: 5, iter: 100, training loss: 0.139484, eval loss: 0.186175, hamming loss: 0.040400\n",
      "epoch: 5, iter: 200, training loss: 0.121399, eval loss: 0.180031, hamming loss: 0.040720\n",
      "epoch: 5, iter: 300, training loss: 0.105396, eval loss: 0.174510, hamming loss: 0.040320\n",
      "epoch: 6, iter: 0, training loss: 0.111507, eval loss: 0.167339, hamming loss: 0.040080\n",
      "epoch: 6, iter: 100, training loss: 0.119821, eval loss: 0.163225, hamming loss: 0.041760\n",
      "epoch: 6, iter: 200, training loss: 0.117132, eval loss: 0.160974, hamming loss: 0.041840\n",
      "epoch: 6, iter: 300, training loss: 0.116754, eval loss: 0.166692, hamming loss: 0.042640\n",
      "epoch: 7, iter: 0, training loss: 0.094009, eval loss: 0.155998, hamming loss: 0.042480\n",
      "epoch: 7, iter: 100, training loss: 0.106172, eval loss: 0.153250, hamming loss: 0.042000\n",
      "epoch: 7, iter: 200, training loss: 0.134793, eval loss: 0.153707, hamming loss: 0.042560\n",
      "epoch: 7, iter: 300, training loss: 0.134679, eval loss: 0.149867, hamming loss: 0.043120\n",
      "epoch: 8, iter: 0, training loss: 0.110249, eval loss: 0.148946, hamming loss: 0.044720\n",
      "epoch: 8, iter: 100, training loss: 0.154504, eval loss: 0.142843, hamming loss: 0.043840\n",
      "epoch: 8, iter: 200, training loss: 0.128094, eval loss: 0.140984, hamming loss: 0.043360\n",
      "epoch: 8, iter: 300, training loss: 0.099383, eval loss: 0.148186, hamming loss: 0.044480\n",
      "epoch: 9, iter: 0, training loss: 0.110772, eval loss: 0.144872, hamming loss: 0.043760\n",
      "epoch: 9, iter: 100, training loss: 0.083549, eval loss: 0.137165, hamming loss: 0.043760\n",
      "epoch: 9, iter: 200, training loss: 0.093634, eval loss: 0.138015, hamming loss: 0.043680\n",
      "epoch: 9, iter: 300, training loss: 0.133592, eval loss: 0.137047, hamming loss: 0.043440\n",
      "epoch: 10, iter: 0, training loss: 0.144142, eval loss: 0.129802, hamming loss: 0.042800\n",
      "epoch: 10, iter: 100, training loss: 0.078390, eval loss: 0.130348, hamming loss: 0.044000\n",
      "epoch: 10, iter: 200, training loss: 0.104494, eval loss: 0.131097, hamming loss: 0.043840\n",
      "epoch: 10, iter: 300, training loss: 0.125935, eval loss: 0.132312, hamming loss: 0.044080\n",
      "epoch: 11, iter: 0, training loss: 0.101069, eval loss: 0.129454, hamming loss: 0.044160\n",
      "epoch: 11, iter: 100, training loss: 0.130194, eval loss: 0.124508, hamming loss: 0.043120\n",
      "epoch: 11, iter: 200, training loss: 0.109948, eval loss: 0.126547, hamming loss: 0.043920\n",
      "epoch: 11, iter: 300, training loss: 0.079277, eval loss: 0.128456, hamming loss: 0.044000\n",
      "epoch: 12, iter: 0, training loss: 0.093318, eval loss: 0.131842, hamming loss: 0.044560\n",
      "epoch: 12, iter: 100, training loss: 0.080248, eval loss: 0.123923, hamming loss: 0.043520\n",
      "epoch: 12, iter: 200, training loss: 0.162207, eval loss: 0.126059, hamming loss: 0.044400\n",
      "epoch: 12, iter: 300, training loss: 0.084424, eval loss: 0.122040, hamming loss: 0.044160\n",
      "epoch: 13, iter: 0, training loss: 0.102653, eval loss: 0.127321, hamming loss: 0.044640\n",
      "epoch: 13, iter: 100, training loss: 0.061526, eval loss: 0.126913, hamming loss: 0.045120\n",
      "epoch: 13, iter: 200, training loss: 0.075806, eval loss: 0.122443, hamming loss: 0.042960\n",
      "epoch: 13, iter: 300, training loss: 0.089606, eval loss: 0.124195, hamming loss: 0.043920\n",
      "epoch: 14, iter: 0, training loss: 0.077219, eval loss: 0.123696, hamming loss: 0.043920\n",
      "epoch: 14, iter: 100, training loss: 0.100977, eval loss: 0.118867, hamming loss: 0.043520\n",
      "epoch: 14, iter: 200, training loss: 0.090859, eval loss: 0.120910, hamming loss: 0.043120\n",
      "epoch: 14, iter: 300, training loss: 0.097630, eval loss: 0.121667, hamming loss: 0.044400\n",
      "epoch: 15, iter: 0, training loss: 0.084676, eval loss: 0.121335, hamming loss: 0.044720\n",
      "epoch: 15, iter: 100, training loss: 0.078097, eval loss: 0.121750, hamming loss: 0.044240\n",
      "epoch: 15, iter: 200, training loss: 0.085584, eval loss: 0.118070, hamming loss: 0.044080\n",
      "epoch: 15, iter: 300, training loss: 0.143179, eval loss: 0.119051, hamming loss: 0.043520\n",
      "epoch: 16, iter: 0, training loss: 0.136278, eval loss: 0.119129, hamming loss: 0.042720\n",
      "epoch: 16, iter: 100, training loss: 0.100014, eval loss: 0.117881, hamming loss: 0.043280\n",
      "epoch: 16, iter: 200, training loss: 0.088887, eval loss: 0.118081, hamming loss: 0.043920\n",
      "epoch: 16, iter: 300, training loss: 0.134563, eval loss: 0.118307, hamming loss: 0.044400\n",
      "epoch: 17, iter: 0, training loss: 0.098762, eval loss: 0.115412, hamming loss: 0.043040\n",
      "epoch: 17, iter: 100, training loss: 0.085479, eval loss: 0.118542, hamming loss: 0.042800\n",
      "epoch: 17, iter: 200, training loss: 0.065769, eval loss: 0.120070, hamming loss: 0.043680\n",
      "epoch: 17, iter: 300, training loss: 0.078445, eval loss: 0.119532, hamming loss: 0.044320\n",
      "epoch: 18, iter: 0, training loss: 0.067441, eval loss: 0.115391, hamming loss: 0.042960\n",
      "epoch: 18, iter: 100, training loss: 0.081104, eval loss: 0.114461, hamming loss: 0.042960\n",
      "epoch: 18, iter: 200, training loss: 0.083667, eval loss: 0.115140, hamming loss: 0.043760\n",
      "epoch: 18, iter: 300, training loss: 0.127999, eval loss: 0.116247, hamming loss: 0.042800\n",
      "epoch: 19, iter: 0, training loss: 0.077470, eval loss: 0.115154, hamming loss: 0.042800\n",
      "epoch: 19, iter: 100, training loss: 0.100267, eval loss: 0.113213, hamming loss: 0.041920\n",
      "epoch: 19, iter: 200, training loss: 0.131390, eval loss: 0.117096, hamming loss: 0.043600\n",
      "epoch: 19, iter: 300, training loss: 0.071483, eval loss: 0.118437, hamming loss: 0.043760\n"
     ]
    }
   ],
   "source": [
    "net = NNBaseline(dims, dropout_rates)\n",
    "optimizer = optim.Adam(net.parameters(), lr=lr)\n",
    "loss_fn = multilabel_loss\n",
    "\n",
    "model, losses, val_losses, metrics = train(train_pre.values, train_true.values, dev_pre.values, dev_true.values,\n",
    "                                                     n_epochs=n_epochs, batch_size=batch_size, \n",
    "                                                     lr=lr, net=net, loss_fn=loss_fn, optimizer=optimizer, \n",
    "                                                     device=device)\n"
   ]
  },
  {
   "cell_type": "code",
   "execution_count": 15,
   "metadata": {},
   "outputs": [
    {
     "data": {
      "text/plain": [
       "(2500, 15)"
      ]
     },
     "execution_count": 15,
     "metadata": {},
     "output_type": "execute_result"
    }
   ],
   "source": [
    "test_pre.shape"
   ]
  },
  {
   "cell_type": "code",
   "execution_count": 16,
   "metadata": {},
   "outputs": [
    {
     "data": {
      "text/plain": [
       "(2500, 5)"
      ]
     },
     "execution_count": 16,
     "metadata": {},
     "output_type": "execute_result"
    }
   ],
   "source": [
    "test_true.shape"
   ]
  },
  {
   "cell_type": "code",
   "execution_count": 25,
   "metadata": {},
   "outputs": [
    {
     "name": "stdout",
     "output_type": "stream",
     "text": [
      "model for validation:\n",
      "********\n",
      "label access, confusion matrix:\n",
      "[[2148  163]\n",
      " [  27  162]]\n",
      "f1: 0.630350\n",
      "********\n",
      "********\n",
      "label costs, confusion matrix:\n",
      "[[2274   97]\n",
      " [  16  113]]\n",
      "f1: 0.666667\n",
      "********\n",
      "********\n",
      "label delays, confusion matrix:\n",
      "[[2346   68]\n",
      " [  22   64]]\n",
      "f1: 0.587156\n",
      "********\n",
      "********\n",
      "label errors, confusion matrix:\n",
      "[[2405   42]\n",
      " [  20   33]]\n",
      "f1: 0.515625\n",
      "********\n",
      "********\n",
      "label trusts, confusion matrix:\n",
      "[[2385   34]\n",
      " [  35   46]]\n",
      "f1: 0.571429\n",
      "********\n",
      "avg f1 score: 0.594245\n",
      "Hamming score: 0.958080\n",
      "Exact accuracy: 0.798000\n",
      "Fuzzy accuracy: 0.798000\n",
      "Exact accuracy (exclude negative): 0.776952\n",
      "Fuzzy accuracy (exclude negative): 0.776952\n",
      "roc auc score (weighted): 0.849701\n",
      "\n",
      "model for test:\n",
      "********\n",
      "label access, confusion matrix:\n",
      "[[2121  212]\n",
      " [  14  153]]\n",
      "f1: 0.575188\n",
      "********\n",
      "********\n",
      "label costs, confusion matrix:\n",
      "[[2308   71]\n",
      " [  22   99]]\n",
      "f1: 0.680412\n",
      "********\n",
      "********\n",
      "label delays, confusion matrix:\n",
      "[[2344   61]\n",
      " [  33   62]]\n",
      "f1: 0.568807\n",
      "********\n",
      "********\n",
      "label errors, confusion matrix:\n",
      "[[2382   64]\n",
      " [  13   41]]\n",
      "f1: 0.515723\n",
      "********\n",
      "********\n",
      "label trusts, confusion matrix:\n",
      "[[2390   40]\n",
      " [  36   34]]\n",
      "f1: 0.472222\n",
      "********\n",
      "avg f1 score: 0.562471\n",
      "Hamming score: 0.954720\n",
      "Exact accuracy: 0.782400\n",
      "Fuzzy accuracy: 0.782400\n",
      "Exact accuracy (exclude negative): 0.767258\n",
      "Fuzzy accuracy (exclude negative): 0.767258\n",
      "roc auc score (weighted): 0.844325\n"
     ]
    }
   ],
   "source": [
    "# print(\"best model:\")\n",
    "# test(test_pre.values, test_true.values, net_fn=\"../../models/nn_ensemble.pt\", loss_fn=loss_fn)\n",
    "\n",
    "print(\"model for validation:\")\n",
    "test(dev_pre.values, dev_true.values, net_fn=\"../../models/nn_ensemble.pt\", loss_fn=loss_fn)\n",
    "\n",
    "print(\"\\nmodel for test:\")\n",
    "test(test_pre.values, test_true.values, net_fn=\"../../models/nn_ensemble_last.pt\", loss_fn=loss_fn)"
   ]
  },
  {
   "cell_type": "code",
   "execution_count": 18,
   "metadata": {},
   "outputs": [
    {
     "data": {
      "image/png": "[encoded data removed]",
      "text/plain": [
       "<Figure size 432x288 with 1 Axes>"
      ]
     },
     "metadata": {
      "needs_background": "light"
     },
     "output_type": "display_data"
    }
   ],
   "source": [
    "plt.plot(np.arange(len(losses)), losses)\n",
    "plt.plot(np.arange(len(val_losses)), val_losses)\n",
    "plt.ylabel(\"loss\")\n",
    "plt.xlabel(\"iterations\")\n",
    "plt.show()"
   ]
  },
  {
   "cell_type": "code",
   "execution_count": 19,
   "metadata": {},
   "outputs": [
    {
     "data": {
      "image/png": "[encoded data removed]",
      "text/plain": [
       "<Figure size 432x288 with 1 Axes>"
      ]
     },
     "metadata": {
      "needs_background": "light"
     },
     "output_type": "display_data"
    }
   ],
   "source": [
    "plt.plot(np.arange(len(metrics)), metrics)\n",
    "plt.ylabel(\"hamming loss\")\n",
    "plt.xlabel(\"iterations\")\n",
    "plt.show()"
   ]
  }
 ],
 "metadata": {
  "kernelspec": {
   "display_name": "Python 3",
   "language": "python",
   "name": "python3"
  },
  "language_info": {
   "codemirror_mode": {
    "name": "ipython",
    "version": 3
   },
   "file_extension": ".py",
   "mimetype": "text/x-python",
   "name": "python",
   "nbconvert_exporter": "python",
   "pygments_lexer": "ipython3",
   "version": "3.6.8"
  }
 },
 "nbformat": 4,
 "nbformat_minor": 2
}
