{
 "cells": [
  {
   "cell_type": "code",
   "execution_count": 1,
   "metadata": {},
   "outputs": [],
   "source": [
    "import pandas as pd"
   ]
  },
  {
   "cell_type": "code",
   "execution_count": 2,
   "metadata": {},
   "outputs": [],
   "source": [
    "train_df = pd.read_excel('medical_sieve_training_set.xlsx')\n",
    "test_df = pd.read_excel('medical_sieve_test_set.xlsx')"
   ]
  },
  {
   "cell_type": "code",
   "execution_count": 3,
   "metadata": {},
   "outputs": [],
   "source": [
    "train_df['text'] = train_df['text'].apply(lambda x: x.lower())\n",
    "test_df['text'] = test_df['text'].apply(lambda x: x.lower())"
   ]
  },
  {
   "cell_type": "code",
   "execution_count": 4,
   "metadata": {},
   "outputs": [],
   "source": [
    "train_df.to_excel('medical_sieve_training_set_lower.xlsx', index=False)\n",
    "test_df.to_excel('medical_sieve_test_set_lower.xlsx', index=False)"
   ]
  },
  {
   "cell_type": "code",
   "execution_count": 10,
   "metadata": {},
   "outputs": [],
   "source": [
    "texts = []\n",
    "with open('medical_sieve_training_set_text.txt', 'r') as f:\n",
    "    for each in f.readlines():\n",
    "        texts.append(each.lower())\n",
    "f.close()\n",
    "with open('medical_sieve_training_set_text_lower.txt', 'w') as f:\n",
    "    for each in texts:\n",
    "        f.write(each)\n",
    "f.close()\n",
    "texts = []\n",
    "with open('medical_sieve_test_set_text.txt', 'r') as f:\n",
    "    for each in f.readlines():\n",
    "        texts.append(each.lower())\n",
    "f.close()\n",
    "with open('medical_sieve_test_set_text_lower.txt', 'w') as f:\n",
    "    for each in texts:\n",
    "        f.write(each)\n",
    "f.close()"
   ]
  }
 ],
 "metadata": {
  "kernelspec": {
   "display_name": "Python 3",
   "language": "python",
   "name": "python3"
  },
  "language_info": {
   "codemirror_mode": {
    "name": "ipython",
    "version": 3
   },
   "file_extension": ".py",
   "mimetype": "text/x-python",
   "name": "python",
   "nbconvert_exporter": "python",
   "pygments_lexer": "ipython3",
   "version": "3.7.3"
  }
 },
 "nbformat": 4,
 "nbformat_minor": 2
}
